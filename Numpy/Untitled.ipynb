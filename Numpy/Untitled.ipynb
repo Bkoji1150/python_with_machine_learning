{
 "cells": [
  {
   "cell_type": "code",
   "execution_count": 2,
   "id": "a180c201",
   "metadata": {},
   "outputs": [
    {
     "name": "stdout",
     "output_type": "stream",
     "text": [
      "My number is 12 and my name is Same\n"
     ]
    }
   ],
   "source": [
    "num = 12 \n",
    "name = 'Same'\n",
    "print('My number is {one} and my name is {name}'.format(one=num, name=name))"
   ]
  },
  {
   "cell_type": "code",
   "execution_count": 6,
   "id": "6e43fb71",
   "metadata": {},
   "outputs": [],
   "source": [
    "s = \"hell\"\n"
   ]
  },
  {
   "cell_type": "code",
   "execution_count": 13,
   "id": "10b0009b",
   "metadata": {},
   "outputs": [
    {
     "data": {
      "text/plain": [
       "2"
      ]
     },
     "execution_count": 13,
     "metadata": {},
     "output_type": "execute_result"
    }
   ],
   "source": [
    "def count_dog(st):\n",
    "    count = 0\n",
    "    for word in st.lower().split():\n",
    "        if word == 'dog':\n",
    "            count +=1\n",
    "    return count \n",
    "\n",
    "count_dog('dog man man kelder dog')\n",
    "          "
   ]
  },
  {
   "cell_type": "code",
   "execution_count": 16,
   "id": "fa70378e",
   "metadata": {},
   "outputs": [],
   "source": [
    "seq = ['spilt', 'dog', 'salad', 'cat', 'greate']"
   ]
  },
  {
   "cell_type": "code",
   "execution_count": 17,
   "id": "1c8b8586",
   "metadata": {},
   "outputs": [
    {
     "data": {
      "text/plain": [
       "['spilt', 'salad']"
      ]
     },
     "execution_count": 17,
     "metadata": {},
     "output_type": "execute_result"
    }
   ],
   "source": [
    "list(filter(lambda word: word[0] == 's', seq))"
   ]
  },
  {
   "cell_type": "code",
   "execution_count": null,
   "id": "8d77e6e6",
   "metadata": {},
   "outputs": [],
   "source": []
  }
 ],
 "metadata": {
  "kernelspec": {
   "display_name": "Python 3 (ipykernel)",
   "language": "python",
   "name": "python3"
  },
  "language_info": {
   "codemirror_mode": {
    "name": "ipython",
    "version": 3
   },
   "file_extension": ".py",
   "mimetype": "text/x-python",
   "name": "python",
   "nbconvert_exporter": "python",
   "pygments_lexer": "ipython3",
   "version": "3.10.0"
  }
 },
 "nbformat": 4,
 "nbformat_minor": 5
}
